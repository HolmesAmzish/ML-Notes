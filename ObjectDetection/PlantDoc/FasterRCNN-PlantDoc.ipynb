{
 "cells": [
  {
   "cell_type": "code",
   "execution_count": 1,
   "id": "initial_id",
   "metadata": {
    "ExecuteTime": {
     "end_time": "2025-07-20T04:17:45.634971Z",
     "start_time": "2025-07-20T04:17:42.924097Z"
    },
    "collapsed": true
   },
   "outputs": [
    {
     "name": "stdout",
     "output_type": "stream",
     "text": [
      "Config => epochs: 5, batch_size: 4, workers: 4, patience: 2\n",
      "Using device: cuda\n"
     ]
    }
   ],
   "source": [
    "import torch\n",
    "import time\n",
    "import random\n",
    "from torch.amp import GradScaler, autocast\n",
    "from torch.optim.lr_scheduler import ReduceLROnPlateau\n",
    "import torchvision.transforms.functional as F\n",
    "from torchvision.datasets import VOCDetection\n",
    "from torchvision.models.detection import fasterrcnn_resnet50_fpn\n",
    "from torch.utils.data import DataLoader\n",
    "import matplotlib.pyplot as plt\n",
    "\n",
    "NUM_EPOCHS = 5\n",
    "BATCH_SIZE = 4\n",
    "PATIENCE = 2\n",
    "NUM_WORKERS = 4\n",
    "PRINT_INTERVAL = 100\n",
    "DEVICE = torch.device(\"cuda\" if torch.cuda.is_available() else \"cpu\")\n",
    "\n",
    "print(f\"Config => epochs: {NUM_EPOCHS}, batch_size: {BATCH_SIZE}, workers: {NUM_WORKERS}, patience: {PATIENCE}\")\n",
    "print(f\"Using device: {DEVICE}\")"
   ]
  },
  {
   "cell_type": "code",
   "execution_count": null,
   "id": "4d5316839e10ae25",
   "metadata": {},
   "outputs": [],
   "source": [
    "PLANT_DICT = {'Apple Scab Leaf': 0, 'Apple leaf': 1, 'Apple rust leaf': 2, 'Bell_pepper leaf': 3, 'Bell_pepper leaf spot': 4, 'Blueberry leaf': 5, 'Cherry leaf': 6, 'Corn Gray leaf spot': 7, 'Corn leaf blight': 8, 'Corn rust leaf': 9, 'Peach leaf': 10, 'Potato leaf': 11, 'Potato leaf early blight': 12, 'Potato leaf late blight': 13, 'Raspberry leaf': 14, 'Soyabean leaf': 15, 'Squash Powdery mildew leaf': 16, 'Strawberry leaf': 17, 'Tomato Early blight leaf': 18, 'Tomato Septoria leaf spot': 19, 'Tomato leaf': 20, 'Tomato leaf bacterial spot': 21, 'Tomato leaf late blight': 22, 'Tomato leaf mosaic virus': 23, 'Tomato leaf yellow virus': 24, 'Tomato mold leaf': 25, 'Tomato two spotted spider mites leaf': 26, 'grape leaf': 27, 'grape leaf black rot': 28}\n",
    "\n",
    "PLANT_CLASSES = list(PLANT_DICT.keys())"
   ]
  },
  {
   "cell_type": "code",
   "execution_count": null,
   "id": "646acf413efdfa20",
   "metadata": {},
   "outputs": [],
   "source": [
    "def prepare_sample(img, target):\n",
    "    # Random horizontal flip\n",
    "    if random.random() < 0.5:\n",
    "        w = img.width\n",
    "        img = F.hflip(img)\n",
    "        # Ensure 'object' is a list\n",
    "        objs = target['annotation']['object']\n",
    "        if not isinstance(objs, list): objs = [objs]\n",
    "        for o in objs:\n",
    "            # Update bndbox coordinates after flip\n",
    "            xmin, xmax = int(o['bndbox']['xmin']), int(o['bndbox']['xmax'])\n",
    "            o['bndbox']['xmin'] = w - xmax\n",
    "            o['bndbox']['xmax'] = w - xmin\n",
    "    # Random color jitter\n",
    "    if random.random() < 0.5:\n",
    "        img = F.adjust_brightness(img, random.uniform(0.8, 1.2))\n",
    "        img = F.adjust_contrast(img,   random.uniform(0.8, 1.2))\n",
    "        img = F.adjust_saturation(img, random.uniform(0.8, 1.2))\n",
    "    # To tensor & parse boxes\n",
    "    img_tensor = F.to_tensor(img)\n",
    "    \n",
    "    # Ensure 'object' is a list for robust parsing\n",
    "    objs = target['annotation']['object']\n",
    "    if not isinstance(objs, list): objs = [objs]\n",
    "    \n",
    "    # Extract boxes\n",
    "    boxes = torch.tensor([\n",
    "        [int(o['bndbox']['xmin']), int(o['bndbox']['ymin']),\n",
    "         int(o['bndbox']['xmax']), int(o['bndbox']['ymax'])]\n",
    "        for o in objs\n",
    "    ], dtype=torch.float32)\n",
    "    \n",
    "    # Extract labels (using PLANT_CLASSES)\n",
    "    labels = torch.tensor([\n",
    "        PLANT_CLASSES.index(o['name']) + 1 for o in objs # +1 for background class\n",
    "    ], dtype=torch.int64)\n",
    "    return img_tensor, {\"boxes\": boxes, \"labels\": labels}\n",
    "\n",
    "def collate_fn(batch):\n",
    "    return tuple(zip(*batch))"
   ]
  },
  {
   "cell_type": "code",
   "execution_count": null,
   "id": "afa53b12e5b1de06",
   "metadata": {},
   "outputs": [],
   "source": []
  }
 ],
 "metadata": {
  "kernelspec": {
   "display_name": "cv",
   "language": "python",
   "name": "python3"
  },
  "language_info": {
   "codemirror_mode": {
    "name": "ipython",
    "version": 2
   },
   "file_extension": ".py",
   "mimetype": "text/x-python",
   "name": "python",
   "nbconvert_exporter": "python",
   "pygments_lexer": "ipython2",
   "version": "3.11.13"
  }
 },
 "nbformat": 4,
 "nbformat_minor": 5
}
