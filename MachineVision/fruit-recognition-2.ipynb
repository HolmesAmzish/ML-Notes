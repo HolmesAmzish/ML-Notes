{
 "cells": [
  {
   "cell_type": "code",
   "id": "initial_id",
   "metadata": {
    "collapsed": true,
    "ExecuteTime": {
     "end_time": "2025-02-17T09:02:18.427305Z",
     "start_time": "2025-02-17T09:02:11.071485Z"
    }
   },
   "source": [
    "import torch\n",
    "from torch import nn\n",
    "from torch.utils.data import DataLoader\n",
    "from torchvision import datasets,transforms,models\n",
    "from matplotlib import pyplot as plt\n",
    "from matplotlib import ticker"
   ],
   "outputs": [],
   "execution_count": 1
  },
  {
   "metadata": {
    "ExecuteTime": {
     "end_time": "2025-02-17T09:02:27.445952Z",
     "start_time": "2025-02-17T09:02:27.435258Z"
    }
   },
   "cell_type": "code",
   "source": [
    "def train(dataloader, model, loss_fn, optimizer):\n",
    "    size = len(dataloader.dataset)\n",
    "    num_batches = len(dataloader)\n",
    "    train_loss, correct = 0, 0\n",
    "    model.train()\n",
    "    \n",
    "    for batch, (X, y) in enumerate(dataloader):\n",
    "        X, y = X.to(device), y.to(device)\n",
    "        \n",
    "        # Forward pass\n",
    "        pred = model(X)\n",
    "        loss = loss_fn(pred, y)\n",
    "        \n",
    "        # Backward pass and optimization\n",
    "        optimizer.zero_grad()\n",
    "        loss.backward()\n",
    "        optimizer.step()\n",
    "        \n",
    "        # Calculate metrics\n",
    "        train_loss += loss.item()\n",
    "        correct += (pred.argmax(1) == y).type(torch.float).sum().item()\n",
    "        \n",
    "        if batch % 10 == 0:\n",
    "            print(f\"loss: {loss.item():>7f}  [{batch * len(X):>5d}/{size:>5d}]\")\n",
    "    \n",
    "    train_loss /= num_batches\n",
    "    correct /= size\n",
    "    \n",
    "    train_Avg_loss.append(train_loss)\n",
    "    train_Accuracy.append(100 * correct)\n",
    "    print(f\"Training Accuracy: {100 * correct:>0.1f}%\")\n",
    "\n",
    "def test(dataloader,model,loss_fn):\n",
    "    size=len(dataloader.dataset)\n",
    "    num_batches=len(dataloader)\n",
    "    model.eval()\n",
    "    test_loss,correct=0,0\n",
    "    with torch.no_grad():\n",
    "        for X,y in dataloader:\n",
    "            X, y = X.to(device), y.to(device)\n",
    "            pred=model(X)\n",
    "            test_loss+=loss_fn(pred,y).item()\n",
    "            correct+=(pred.argmax(1)==y).type(torch.float).sum().item()\n",
    "    test_loss/=num_batches\n",
    "    correct/=size\n",
    "    \n",
    "    test_Avg_loss.append(test_loss)\n",
    "    test_Accuracy.append(100*correct)\n",
    "    \n",
    "    print(f\"Test Accuracy: {(100*correct):>0.2f}%, Test Avg loss: {test_loss:>8f}\\n\")"
   ],
   "id": "24934ad707ba1c9a",
   "outputs": [],
   "execution_count": 2
  },
  {
   "metadata": {
    "ExecuteTime": {
     "end_time": "2025-02-17T09:02:30.109114Z",
     "start_time": "2025-02-17T09:02:30.104947Z"
    }
   },
   "cell_type": "code",
   "source": [
    "transform1=transforms.Compose([transforms.Resize((128,128)),\n",
    "                               transforms.RandomHorizontalFlip(p=0.5),\n",
    "                               #transforms.Lambda(lambda x: x.convert('RGBA') if x.mode == 'P' else x),\n",
    "                               transforms.ToTensor(),\n",
    "                               transforms.Normalize(0,1)])\n",
    "transform2=transforms.Compose([transforms.Resize((128,128)),\n",
    "                               #transforms.Lambda(lambda x: x.convert('RGBA') if x.mode == 'P' else x),\n",
    "                               transforms.ToTensor(),\n",
    "                               transforms.Normalize(0,1)])"
   ],
   "id": "9fe582bba05d8ec7",
   "outputs": [],
   "execution_count": 3
  },
  {
   "metadata": {
    "jupyter": {
     "is_executing": true
    },
    "ExecuteTime": {
     "start_time": "2025-02-17T09:19:01.296938Z"
    }
   },
   "cell_type": "code",
   "source": [
    "training_data=datasets.ImageFolder(r'datasets/fruit_and_vegetable/train',transform=transform1)\n",
    "test_data=datasets.ImageFolder(r'datasets/fruit_and_vegetable/test',transform=transform2)\n",
    "train_dataloader=DataLoader(training_data,batch_size=64,shuffle=True)\n",
    "test_dataloader=DataLoader(test_data,batch_size=64,shuffle=True)\n",
    "\n",
    "for X,y in test_dataloader:\n",
    "    print(f\"Shape of X [N, C, H, W]: {X.shape}\")\n",
    "    print(f\"Shape of y: {y.shape} {y.dtype}\")\n",
    "    break\n",
    "\n",
    "device=torch.device(\"cuda\" if torch.cuda.is_available() else \"cpu\")\n",
    "print(f\"Using device: {device}\")\n",
    "loss_fn=nn.CrossEntropyLoss()\n",
    "learning_rate=1e-2\n",
    "\n",
    "model=models.resnet18()\n",
    "model.to(device)\n",
    "#model.classifier[-1].out_features = 36\n",
    "\n",
    "optimizer = torch.optim.Adam(model.parameters(), lr=learning_rate)\n",
    "scheduler = torch.optim.lr_scheduler.StepLR(optimizer,step_size=10,gamma=0.8)\n",
    "\n",
    "train_Avg_loss = []\n",
    "train_Accuracy = []\n",
    "test_Accuracy = []\n",
    "test_Avg_loss = []\n",
    "\n",
    "epochs=10\n",
    "for epoch in range(epochs):\n",
    "    print(f\"epoch{epoch+1}\")\n",
    "    train(train_dataloader,model,loss_fn,optimizer)\n",
    "    scheduler.step()\n",
    "    test(test_dataloader,model,loss_fn)\n",
    "print('Done')"
   ],
   "id": "bf761a4b0a8d0d73",
   "outputs": [
    {
     "name": "stdout",
     "output_type": "stream",
     "text": [
      "Shape of X [N, C, H, W]: torch.Size([64, 3, 128, 128])\n",
      "Shape of y: torch.Size([64]) torch.int64\n",
      "Using device: cuda\n",
      "epoch1\n",
      "loss: 6.903142  [    0/ 3115]\n",
      "loss: 4.363432  [  640/ 3115]\n",
      "loss: 3.915761  [ 1280/ 3115]\n",
      "loss: 3.744495  [ 1920/ 3115]\n",
      "loss: 3.554277  [ 2560/ 3115]\n",
      "Training Accuracy: 7.6%\n",
      "Test Accuracy: 14.76%, Test Avg loss: 3.215877\n",
      "\n",
      "epoch2\n",
      "loss: 3.204198  [    0/ 3115]\n",
      "loss: 2.709663  [  640/ 3115]\n",
      "loss: 2.891295  [ 1280/ 3115]\n",
      "loss: 2.963515  [ 1920/ 3115]\n",
      "loss: 2.715539  [ 2560/ 3115]\n",
      "Training Accuracy: 16.5%\n",
      "Test Accuracy: 15.32%, Test Avg loss: 2.907804\n",
      "\n",
      "epoch3\n",
      "loss: 2.571241  [    0/ 3115]\n",
      "loss: 2.751004  [  640/ 3115]\n",
      "loss: 2.435958  [ 1280/ 3115]\n",
      "loss: 2.696160  [ 1920/ 3115]\n",
      "loss: 2.779417  [ 2560/ 3115]\n",
      "Training Accuracy: 20.6%\n",
      "Test Accuracy: 28.13%, Test Avg loss: 2.316028\n",
      "\n",
      "epoch4\n",
      "loss: 2.459750  [    0/ 3115]\n",
      "loss: 2.285815  [  640/ 3115]\n",
      "loss: 2.456947  [ 1280/ 3115]\n",
      "loss: 2.473643  [ 1920/ 3115]\n",
      "loss: 2.591402  [ 2560/ 3115]\n",
      "Training Accuracy: 24.7%\n",
      "Test Accuracy: 23.12%, Test Avg loss: 2.363805\n",
      "\n",
      "epoch5\n",
      "loss: 2.410785  [    0/ 3115]\n",
      "loss: 2.596573  [  640/ 3115]\n"
     ]
    }
   ],
   "execution_count": null
  }
 ],
 "metadata": {
  "kernelspec": {
   "display_name": "Python 3",
   "language": "python",
   "name": "python3"
  },
  "language_info": {
   "codemirror_mode": {
    "name": "ipython",
    "version": 2
   },
   "file_extension": ".py",
   "mimetype": "text/x-python",
   "name": "python",
   "nbconvert_exporter": "python",
   "pygments_lexer": "ipython2",
   "version": "2.7.6"
  }
 },
 "nbformat": 4,
 "nbformat_minor": 5
}
