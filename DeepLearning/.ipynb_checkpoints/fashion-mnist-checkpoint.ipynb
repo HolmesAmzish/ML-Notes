{
 "cells": [
  {
   "cell_type": "markdown",
   "id": "cdcea797979415b6",
   "metadata": {},
   "source": [
    "PyTorch 提供了两个用于 处理数据的原语: torch.utils.data.DataLoader 和 torch.utils.data.Dataset。`Dataset`存储样本及其对应的标签，而`DataLoader`则在`Dataset`外部封装一层，变为可迭代对象。"
   ]
  },
  {
   "cell_type": "code",
   "id": "initial_id",
   "metadata": {
    "collapsed": true,
    "ExecuteTime": {
     "end_time": "2025-02-06T05:16:40.760265Z",
     "start_time": "2025-02-06T05:16:18.385037Z"
    }
   },
   "source": [
    "import torch\n",
    "from torch import nn\n",
    "from torch.utils.data import DataLoader\n",
    "from torchvision import datasets\n",
    "from torchvision.transforms import ToTensor\n",
    "\n",
    "import matplotlib.pyplot as plt"
   ],
   "outputs": [],
   "execution_count": 1
  },
  {
   "cell_type": "code",
   "id": "e165a6283e5bf04b",
   "metadata": {
    "ExecuteTime": {
     "end_time": "2025-02-06T05:16:40.865774Z",
     "start_time": "2025-02-06T05:16:40.761294Z"
    }
   },
   "source": [
    "# Download training data from open datasets\n",
    "training_data = datasets.FashionMNIST(\n",
    "    root=\"data\",\n",
    "    train=True,\n",
    "    download=True,\n",
    "    transform=ToTensor(),\n",
    ")\n",
    "\n",
    "# Download test data from open datasets\n",
    "test_data = datasets.FashionMNIST(\n",
    "    root=\"data\",\n",
    "    train=False,\n",
    "    download=True,\n",
    "    transform=ToTensor(),\n",
    ")"
   ],
   "outputs": [],
   "execution_count": 2
  },
  {
   "cell_type": "markdown",
   "id": "10e9850741cfca6b",
   "metadata": {},
   "source": [
    "将 Dataset 作为参数传递给 DataLoader，在数据集上封装了一个可迭代对象， 支持自动批处理、采样、打乱和多进程数据加载。这里我们定义一个批处理大小为 64， 即 dataloader 每批将返回大小为 64 的特征数据和标签。"
   ]
  },
  {
   "cell_type": "code",
   "id": "3530938efccbfda9",
   "metadata": {
    "ExecuteTime": {
     "end_time": "2025-02-06T05:16:40.901844Z",
     "start_time": "2025-02-06T05:16:40.866804Z"
    }
   },
   "source": [
    "# Create data loaders.\n",
    "train_dataloader = DataLoader(training_data, batch_size=64, shuffle=True)\n",
    "test_dataloader = DataLoader(test_data, batch_size=64, shuffle=True)\n",
    "\n",
    "for X, y in test_dataloader:\n",
    "    print(f\"Shape of X [N, C, H, W]: {X.shape}\")\n",
    "    print(f\"Shape of y: {y.shape} {y.dtype}\")\n",
    "    break"
   ],
   "outputs": [
    {
     "name": "stdout",
     "output_type": "stream",
     "text": [
      "Shape of X [N, C, H, W]: torch.Size([64, 1, 28, 28])\n",
      "Shape of y: torch.Size([64]) torch.int64\n"
     ]
    }
   ],
   "execution_count": 3
  },
  {
   "cell_type": "markdown",
   "id": "df2724fbb5a11057",
   "metadata": {},
   "source": [
    "X 的形状中 N = 64 即为样本数为 64，C = 1 表示每个样本有一个通道（灰度图），H 和 W 分别为长和宽。 y 的形状表示有 64 个对应的标签，且标签数据类型为 int，为了对应数字。"
   ]
  },
  {
   "cell_type": "code",
   "id": "67ff7f939b254a8e",
   "metadata": {
    "ExecuteTime": {
     "end_time": "2025-02-06T05:25:43.485600Z",
     "start_time": "2025-02-06T05:25:43.479886Z"
    }
   },
   "source": [
    "print(torch.cuda.is_available())"
   ],
   "outputs": [
    {
     "name": "stdout",
     "output_type": "stream",
     "text": [
      "False\n"
     ]
    }
   ],
   "execution_count": 47
  },
  {
   "cell_type": "code",
   "id": "624458cd990afe7f",
   "metadata": {
    "ExecuteTime": {
     "end_time": "2025-02-06T05:24:09.087665Z",
     "start_time": "2025-02-06T05:24:09.070626Z"
    }
   },
   "source": [
    "# Get cpu or gpu device for training.\n",
    "device = (\n",
    "    \"cuda\"\n",
    "    if torch.cuda.is_available()\n",
    "    else \"cpu\"\n",
    ")\n",
    "print(f\"Using {device} device\")\n",
    "\n",
    "class NeuralNetwork(nn.Module):\n",
    "    def __init__(self):\n",
    "        super().__init__()\n",
    "        self.flatten = nn.Flatten()\n",
    "        self.linear_relu_stack = nn.Sequential(\n",
    "            nn.Linear(28*28, 512),\n",
    "            nn.ReLU(),\n",
    "            nn.Linear(512, 512),\n",
    "            nn.ReLU(),\n",
    "            nn.Linear(512, 10)\n",
    "        )\n",
    "\n",
    "    def forward(self, x):\n",
    "        x = self.flatten(x)\n",
    "        logits = self.linear_relu_stack(x)\n",
    "        return logits\n",
    "\n",
    "\n",
    "model = NeuralNetwork().to(device)\n",
    "print(model)"
   ],
   "outputs": [
    {
     "name": "stdout",
     "output_type": "stream",
     "text": [
      "Using cpu device\n",
      "NeuralNetwork(\n",
      "  (flatten): Flatten(start_dim=1, end_dim=-1)\n",
      "  (linear_relu_stack): Sequential(\n",
      "    (0): Linear(in_features=784, out_features=512, bias=True)\n",
      "    (1): ReLU()\n",
      "    (2): Linear(in_features=512, out_features=512, bias=True)\n",
      "    (3): ReLU()\n",
      "    (4): Linear(in_features=512, out_features=10, bias=True)\n",
      "  )\n",
      ")\n"
     ]
    }
   ],
   "execution_count": 41
  },
  {
   "cell_type": "markdown",
   "id": "4250e1ef23470fc0",
   "metadata": {},
   "source": [
    "训练一个模型需要一个损失函数和一个优化器"
   ]
  },
  {
   "cell_type": "code",
   "id": "6bbc66d7eec6d8bf",
   "metadata": {
    "ExecuteTime": {
     "end_time": "2025-02-06T05:24:15.100903Z",
     "start_time": "2025-02-06T05:24:15.096587Z"
    }
   },
   "source": [
    "loss_fn = nn.CrossEntropyLoss()\n",
    "optimizer = torch.optim.SGD(model.parameters(), lr=1e-3)"
   ],
   "outputs": [],
   "execution_count": 42
  },
  {
   "cell_type": "code",
   "id": "76fcb85993055c1f",
   "metadata": {
    "ExecuteTime": {
     "end_time": "2025-02-06T05:24:17.258432Z",
     "start_time": "2025-02-06T05:24:17.251867Z"
    }
   },
   "source": [
    "def train(dataloader, model, loss_fn, optimizer):\n",
    "    size = len(dataloader.dataset)\n",
    "    model.train()\n",
    "    for batch, (X, y) in enumerate(dataloader):\n",
    "        X, y = X.to(device), y.to(device)\n",
    "        \n",
    "        # Compute prediction error\n",
    "        pred = model(X)\n",
    "        loss = loss_fn(pred, y)\n",
    "        \n",
    "        # Backpropagation\n",
    "        loss.backward()\n",
    "        optimizer.step()\n",
    "        optimizer.zero_grad()\n",
    "        \n",
    "        if batch % 100 == 0:\n",
    "            loss, current = loss.item(), (batch + 1) * len(X)\n",
    "            print(f\"loss: {loss:>7f}  [{current:>5d}/{size:>5d}]\")"
   ],
   "outputs": [],
   "execution_count": 43
  },
  {
   "cell_type": "markdown",
   "id": "43ad0ab699bd6fb",
   "metadata": {},
   "source": [
    "检查模型在测试数据集上的效果，以确保它在持续学习。"
   ]
  },
  {
   "cell_type": "code",
   "id": "c517c64442a9f600",
   "metadata": {
    "ExecuteTime": {
     "end_time": "2025-02-06T05:24:20.655440Z",
     "start_time": "2025-02-06T05:24:20.649222Z"
    }
   },
   "source": [
    "def test(dataloader, model, loss_fn):\n",
    "    size = len(dataloader.dataset)\n",
    "    num_batches = len(dataloader)\n",
    "    model.eval()\n",
    "    test_loss, correct = 0, 0\n",
    "    with torch.no_grad():\n",
    "        for X, y in dataloader:\n",
    "            X, y = X.to(device), y.to(device)\n",
    "            pred = model(X)\n",
    "            test_loss += loss_fn(pred, y).item()\n",
    "            correct += (pred.argmax(1) == y).type(torch.float).sum().item()\n",
    "    test_loss /= num_batches\n",
    "    correct /= size\n",
    "    print(f\"Test Error: \\n Accuracy: {100*(correct):>0.1f}%, Avg loss: {test_loss:>8f}\\n\")"
   ],
   "outputs": [],
   "execution_count": 44
  },
  {
   "cell_type": "code",
   "id": "fa2c4f4bc3dbb77",
   "metadata": {
    "ExecuteTime": {
     "end_time": "2025-02-06T05:25:36.406196Z",
     "start_time": "2025-02-06T05:24:22.545425Z"
    }
   },
   "source": [
    "epochs = 5\n",
    "for t in range(epochs):\n",
    "    print(f\"Epoch {t+1}\\n-------------------------------\")\n",
    "    train(train_dataloader, model, loss_fn, optimizer)\n",
    "    test(test_dataloader, model, loss_fn)\n",
    "print(\"Done!\")"
   ],
   "outputs": [
    {
     "name": "stdout",
     "output_type": "stream",
     "text": [
      "Epoch 1\n",
      "-------------------------------\n",
      "loss: 2.299182  [   64/60000]\n",
      "loss: 2.286136  [ 6464/60000]\n",
      "loss: 2.268077  [12864/60000]\n",
      "loss: 2.255263  [19264/60000]\n",
      "loss: 2.226083  [25664/60000]\n",
      "loss: 2.229048  [32064/60000]\n",
      "loss: 2.215782  [38464/60000]\n",
      "loss: 2.195498  [44864/60000]\n",
      "loss: 2.148418  [51264/60000]\n",
      "loss: 2.140815  [57664/60000]\n",
      "Test Error: \n",
      " Accuracy: 48.4%, Avg loss: 2.143438\n",
      "\n",
      "Epoch 2\n",
      "-------------------------------\n",
      "loss: 2.135103  [   64/60000]\n",
      "loss: 2.109713  [ 6464/60000]\n",
      "loss: 2.062976  [12864/60000]\n",
      "loss: 2.099041  [19264/60000]\n",
      "loss: 2.062059  [25664/60000]\n",
      "loss: 2.026929  [32064/60000]\n",
      "loss: 2.013047  [38464/60000]\n",
      "loss: 1.953947  [44864/60000]\n",
      "loss: 1.913348  [51264/60000]\n",
      "loss: 1.842614  [57664/60000]\n",
      "Test Error: \n",
      " Accuracy: 55.2%, Avg loss: 1.863029\n",
      "\n",
      "Epoch 3\n",
      "-------------------------------\n",
      "loss: 1.842136  [   64/60000]\n",
      "loss: 1.789045  [ 6464/60000]\n",
      "loss: 1.785486  [12864/60000]\n",
      "loss: 1.754574  [19264/60000]\n",
      "loss: 1.714455  [25664/60000]\n",
      "loss: 1.705179  [32064/60000]\n",
      "loss: 1.731755  [38464/60000]\n",
      "loss: 1.570779  [44864/60000]\n",
      "loss: 1.558894  [51264/60000]\n",
      "loss: 1.520911  [57664/60000]\n",
      "Test Error: \n",
      " Accuracy: 60.8%, Avg loss: 1.497390\n",
      "\n",
      "Epoch 4\n",
      "-------------------------------\n",
      "loss: 1.466793  [   64/60000]\n",
      "loss: 1.459334  [ 6464/60000]\n",
      "loss: 1.409060  [12864/60000]\n",
      "loss: 1.325535  [19264/60000]\n",
      "loss: 1.478934  [25664/60000]\n",
      "loss: 1.385767  [32064/60000]\n",
      "loss: 1.332751  [38464/60000]\n",
      "loss: 1.311639  [44864/60000]\n",
      "loss: 1.325920  [51264/60000]\n",
      "loss: 1.233470  [57664/60000]\n",
      "Test Error: \n",
      " Accuracy: 63.5%, Avg loss: 1.240738\n",
      "\n",
      "Epoch 5\n",
      "-------------------------------\n",
      "loss: 1.230357  [   64/60000]\n",
      "loss: 1.182778  [ 6464/60000]\n",
      "loss: 1.145461  [12864/60000]\n",
      "loss: 1.140981  [19264/60000]\n",
      "loss: 1.021582  [25664/60000]\n",
      "loss: 1.153525  [32064/60000]\n",
      "loss: 1.080630  [38464/60000]\n",
      "loss: 1.114370  [44864/60000]\n",
      "loss: 0.999704  [51264/60000]\n",
      "loss: 1.056798  [57664/60000]\n",
      "Test Error: \n",
      " Accuracy: 64.9%, Avg loss: 1.080368\n",
      "\n",
      "Done!\n"
     ]
    }
   ],
   "execution_count": 45
  },
  {
   "cell_type": "code",
   "id": "312d45315251cee3",
   "metadata": {
    "ExecuteTime": {
     "end_time": "2025-02-06T05:17:21.863558Z",
     "start_time": "2025-02-06T05:17:21.851795Z"
    }
   },
   "source": [
    "torch.save(model.state_dict(), \"model.pth\")\n",
    "print(\"Saved PyTorch Model State to model.pth\")"
   ],
   "outputs": [
    {
     "name": "stdout",
     "output_type": "stream",
     "text": [
      "Saved PyTorch Model State to model.pth\n"
     ]
    }
   ],
   "execution_count": 10
  },
  {
   "cell_type": "code",
   "id": "3f4e8768281c21b0",
   "metadata": {
    "ExecuteTime": {
     "end_time": "2025-02-06T05:17:21.902156Z",
     "start_time": "2025-02-06T05:17:21.864587Z"
    }
   },
   "source": [
    "model = NeuralNetwork().to(device)\n",
    "model.load_state_dict(torch.load(\"model.pth\"))"
   ],
   "outputs": [
    {
     "data": {
      "text/plain": [
       "<All keys matched successfully>"
      ]
     },
     "execution_count": 11,
     "metadata": {},
     "output_type": "execute_result"
    }
   ],
   "execution_count": 11
  },
  {
   "cell_type": "code",
   "id": "640b7a7b1b42bd4e",
   "metadata": {
    "ExecuteTime": {
     "end_time": "2025-02-06T05:23:26.658314Z",
     "start_time": "2025-02-06T05:23:26.359195Z"
    }
   },
   "source": [
    "classes = [\n",
    "    \"T-shirt/top\",\n",
    "    \"Trouser\",\n",
    "    \"Pullover\",\n",
    "    \"Dress\",\n",
    "    \"Coat\",\n",
    "    \"Sandal\",\n",
    "    \"Shirt\",\n",
    "    \"Sneaker\",\n",
    "    \"Bag\",\n",
    "    \"Ankle boot\",\n",
    "]\n",
    "\n",
    "model.eval()\n",
    "import random\n",
    "random = random.randint(0, len(test_data) - 1)\n",
    "x, y = test_data[random][0], test_data[random][1]\n",
    "with torch.no_grad():\n",
    "    x = x.to(device)\n",
    "    pred = model(x)\n",
    "    predicted, actual = classes[pred[0].argmax(0)], classes[y]\n",
    "    plt.imshow(x.squeeze(0), cmap='gray')\n",
    "    plt.show()\n",
    "    print(f'Predicted: \"{predicted}\", Actual: \"{actual}\"')"
   ],
   "outputs": [
    {
     "data": {
      "text/plain": [
       "<Figure size 640x480 with 1 Axes>"
      ],
      "image/png": "[encoded data removed]"
     },
     "metadata": {},
     "output_type": "display_data"
    },
    {
     "name": "stdout",
     "output_type": "stream",
     "text": [
      "Predicted: \"Coat\", Actual: \"Shirt\"\n"
     ]
    }
   ],
   "execution_count": 40
  }
 ],
 "metadata": {
  "kernelspec": {
   "display_name": "ai",
   "language": "python",
   "name": "python3"
  },
  "language_info": {
   "codemirror_mode": {
    "name": "ipython",
    "version": 3
   },
   "file_extension": ".py",
   "mimetype": "text/x-python",
   "name": "python",
   "nbconvert_exporter": "python",
   "pygments_lexer": "ipython3",
   "version": "3.13.1"
  }
 },
 "nbformat": 4,
 "nbformat_minor": 5
}
