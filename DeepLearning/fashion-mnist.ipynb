{
 "cells": [
  {
   "cell_type": "markdown",
   "id": "cdcea797979415b6",
   "metadata": {},
   "source": [
    "PyTorch 提供了两个用于 处理数据的原语: torch.utils.data.DataLoader 和 torch.utils.data.Dataset。`Dataset`存储样本及其对应的标签，而`DataLoader`则在`Dataset`外部封装一层，变为可迭代对象。"
   ]
  },
  {
   "cell_type": "code",
   "execution_count": 4,
   "id": "initial_id",
   "metadata": {
    "ExecuteTime": {
     "end_time": "2025-02-07T04:38:12.321151Z",
     "start_time": "2025-02-07T04:38:12.317695Z"
    },
    "collapsed": true,
    "jupyter": {
     "outputs_hidden": true
    }
   },
   "outputs": [],
   "source": [
    "import torch\n",
    "from torch import nn\n",
    "from torch.utils.data import DataLoader\n",
    "from torchvision import datasets\n",
    "from torchvision.transforms import ToTensor"
   ]
  },
  {
   "cell_type": "code",
   "execution_count": 5,
   "id": "e165a6283e5bf04b",
   "metadata": {
    "ExecuteTime": {
     "end_time": "2025-02-07T04:38:12.478885Z",
     "start_time": "2025-02-07T04:38:12.386123Z"
    }
   },
   "outputs": [],
   "source": [
    "# Download training data from open datasets\n",
    "training_data = datasets.FashionMNIST(\n",
    "    root=\"data\",\n",
    "    train=True,\n",
    "    download=True,\n",
    "    transform=ToTensor(),\n",
    ")\n",
    "\n",
    "# Download test data from open datasets\n",
    "test_data = datasets.FashionMNIST(\n",
    "    root=\"data\",\n",
    "    train=False,\n",
    "    download=True,\n",
    "    transform=ToTensor(),\n",
    ")"
   ]
  },
  {
   "cell_type": "markdown",
   "id": "10e9850741cfca6b",
   "metadata": {},
   "source": [
    "将 Dataset 作为参数传递给 DataLoader，在数据集上封装了一个可迭代对象， 支持自动批处理、采样、打乱和多进程数据加载。这里我们定义一个批处理大小为 64， 即 dataloader 每批将返回大小为 64 的特征数据和标签。"
   ]
  },
  {
   "cell_type": "code",
   "execution_count": 6,
   "id": "3530938efccbfda9",
   "metadata": {
    "ExecuteTime": {
     "end_time": "2025-02-07T04:38:12.513230Z",
     "start_time": "2025-02-07T04:38:12.481683Z"
    }
   },
   "outputs": [
    {
     "name": "stdout",
     "output_type": "stream",
     "text": [
      "Shape of X [N, C, H, W]: torch.Size([64, 1, 28, 28])\n",
      "Shape of y: torch.Size([64]) torch.int64\n"
     ]
    }
   ],
   "source": [
    "batch_size = 64\n",
    "\n",
    "# Create data loaders.\n",
    "train_dataloader = DataLoader(training_data, batch_size=batch_size)\n",
    "test_dataloader = DataLoader(test_data, batch_size=batch_size)\n",
    "\n",
    "for X, y in test_dataloader:\n",
    "    print(f\"Shape of X [N, C, H, W]: {X.shape}\")\n",
    "    print(f\"Shape of y: {y.shape} {y.dtype}\")\n",
    "    break"
   ]
  },
  {
   "cell_type": "markdown",
   "id": "df2724fbb5a11057",
   "metadata": {},
   "source": [
    "X 的形状中 N = 64 即为样本数为 64，C = 1 表示每个样本有一个通道（灰度图），H 和 W 分别为长和宽。 y 的形状表示有 64 个对应的标签，且标签数据类型为 int，为了对应数字。"
   ]
  },
  {
   "cell_type": "code",
   "execution_count": 7,
   "id": "67ff7f939b254a8e",
   "metadata": {
    "ExecuteTime": {
     "end_time": "2025-02-07T04:38:12.518420Z",
     "start_time": "2025-02-07T04:38:12.514748Z"
    }
   },
   "outputs": [
    {
     "name": "stdout",
     "output_type": "stream",
     "text": [
      "True\n"
     ]
    }
   ],
   "source": [
    "print(torch.cuda.is_available())"
   ]
  },
  {
   "cell_type": "code",
   "execution_count": 8,
   "id": "624458cd990afe7f",
   "metadata": {
    "ExecuteTime": {
     "end_time": "2025-02-07T04:38:13.392342Z",
     "start_time": "2025-02-07T04:38:12.520795Z"
    }
   },
   "outputs": [
    {
     "name": "stdout",
     "output_type": "stream",
     "text": [
      "Using cuda device\n",
      "NeuralNetwork(\n",
      "  (flatten): Flatten(start_dim=1, end_dim=-1)\n",
      "  (linear_relu_stack): Sequential(\n",
      "    (0): Linear(in_features=784, out_features=512, bias=True)\n",
      "    (1): ReLU()\n",
      "    (2): Linear(in_features=512, out_features=512, bias=True)\n",
      "    (3): ReLU()\n",
      "    (4): Linear(in_features=512, out_features=10, bias=True)\n",
      "  )\n",
      ")\n"
     ]
    }
   ],
   "source": [
    "# Get cpu, gpu or mps device for training.\n",
    "device = (\n",
    "    \"cuda\"\n",
    "    if torch.cuda.is_available()\n",
    "    else \"mps\"\n",
    "    if torch.backends.mps.is_available()\n",
    "    else \"cpu\"\n",
    ")\n",
    "print(f\"Using {device} device\")\n",
    "\n",
    "# Define model\n",
    "\n",
    "\n",
    "class NeuralNetwork(nn.Module):\n",
    "    def __init__(self):\n",
    "        super().__init__()\n",
    "        self.flatten = nn.Flatten()\n",
    "        self.linear_relu_stack = nn.Sequential(\n",
    "            nn.Linear(28*28, 512),\n",
    "            nn.ReLU(),\n",
    "            nn.Linear(512, 512),\n",
    "            nn.ReLU(),\n",
    "            nn.Linear(512, 10)\n",
    "        )\n",
    "\n",
    "    def forward(self, x):\n",
    "        x = self.flatten(x)\n",
    "        logits = self.linear_relu_stack(x)\n",
    "        return logits\n",
    "\n",
    "\n",
    "model = NeuralNetwork().to(device)\n",
    "print(model)"
   ]
  },
  {
   "cell_type": "markdown",
   "id": "4250e1ef23470fc0",
   "metadata": {},
   "source": [
    "训练一个模型需要一个损失函数和一个优化器"
   ]
  },
  {
   "cell_type": "code",
   "execution_count": 9,
   "id": "6bbc66d7eec6d8bf",
   "metadata": {
    "ExecuteTime": {
     "end_time": "2025-02-07T04:38:13.397580Z",
     "start_time": "2025-02-07T04:38:13.394181Z"
    }
   },
   "outputs": [],
   "source": [
    "loss_fn = nn.CrossEntropyLoss()\n",
    "optimizer = torch.optim.SGD(model.parameters(), lr=1e-3)"
   ]
  },
  {
   "cell_type": "code",
   "execution_count": 10,
   "id": "76fcb85993055c1f",
   "metadata": {
    "ExecuteTime": {
     "end_time": "2025-02-07T04:38:13.404743Z",
     "start_time": "2025-02-07T04:38:13.399863Z"
    }
   },
   "outputs": [],
   "source": [
    "def train(dataloader, model, loss_fn, optimizer):\n",
    "    size = len(dataloader.dataset)\n",
    "    model.train()\n",
    "    for batch, (X, y) in enumerate(dataloader):\n",
    "        X, y = X.to(device), y.to(device)\n",
    "\n",
    "        # Compute prediction error\n",
    "        pred = model(X)\n",
    "        loss = loss_fn(pred, y)\n",
    "\n",
    "        # Backpropagation\n",
    "        loss.backward()\n",
    "        optimizer.step()\n",
    "        optimizer.zero_grad()\n",
    "\n",
    "        if batch % 100 == 0:\n",
    "            loss, current = loss.item(), (batch + 1) * len(X)\n",
    "            print(f\"loss: {loss:>7f}  [{current:>5d}/{size:>5d}]\")"
   ]
  },
  {
   "cell_type": "markdown",
   "id": "43ad0ab699bd6fb",
   "metadata": {},
   "source": [
    "检查模型在测试数据集上的效果，以确保它在持续学习。"
   ]
  },
  {
   "cell_type": "code",
   "execution_count": 11,
   "id": "c517c64442a9f600",
   "metadata": {
    "ExecuteTime": {
     "end_time": "2025-02-07T04:38:13.411852Z",
     "start_time": "2025-02-07T04:38:13.406433Z"
    }
   },
   "outputs": [],
   "source": [
    "def test(dataloader, model, loss_fn):\n",
    "    size = len(dataloader.dataset)\n",
    "    num_batches = len(dataloader)\n",
    "    model.eval()\n",
    "    test_loss, correct = 0, 0\n",
    "    with torch.no_grad():\n",
    "        for X, y in dataloader:\n",
    "            X, y = X.to(device), y.to(device)\n",
    "            pred = model(X)\n",
    "            test_loss += loss_fn(pred, y).item()\n",
    "            correct += (pred.argmax(1) == y).type(torch.float).sum().item()\n",
    "    test_loss /= num_batches\n",
    "    correct /= size\n",
    "    print(f\"Test Error: \\n Accuracy: {100*(correct):>0.1f}%, Avg loss: {test_loss:>8f}\\n\")"
   ]
  },
  {
   "cell_type": "code",
   "execution_count": 12,
   "id": "fa2c4f4bc3dbb77",
   "metadata": {
    "ExecuteTime": {
     "end_time": "2025-02-07T04:39:07.683118Z",
     "start_time": "2025-02-07T04:38:13.413617Z"
    }
   },
   "outputs": [
    {
     "name": "stdout",
     "output_type": "stream",
     "text": [
      "Epoch 1\n",
      "-------------------------------\n",
      "loss: 2.310095  [   64/60000]\n",
      "loss: 2.298122  [ 6464/60000]\n",
      "loss: 2.279445  [12864/60000]\n",
      "loss: 2.268215  [19264/60000]\n",
      "loss: 2.255812  [25664/60000]\n",
      "loss: 2.216004  [32064/60000]\n",
      "loss: 2.228203  [38464/60000]\n",
      "loss: 2.189994  [44864/60000]\n",
      "loss: 2.184163  [51264/60000]\n",
      "loss: 2.151459  [57664/60000]\n",
      "Test Error: \n",
      " Accuracy: 39.0%, Avg loss: 2.151487\n",
      "\n",
      "Epoch 2\n",
      "-------------------------------\n",
      "loss: 2.166918  [   64/60000]\n",
      "loss: 2.155850  [ 6464/60000]\n",
      "loss: 2.096817  [12864/60000]\n",
      "loss: 2.108942  [19264/60000]\n",
      "loss: 2.070046  [25664/60000]\n",
      "loss: 1.992161  [32064/60000]\n",
      "loss: 2.021636  [38464/60000]\n",
      "loss: 1.940024  [44864/60000]\n",
      "loss: 1.942545  [51264/60000]\n",
      "loss: 1.866510  [57664/60000]\n",
      "Test Error: \n",
      " Accuracy: 55.6%, Avg loss: 1.873620\n",
      "\n",
      "Epoch 3\n",
      "-------------------------------\n",
      "loss: 1.910398  [   64/60000]\n",
      "loss: 1.878396  [ 6464/60000]\n",
      "loss: 1.761187  [12864/60000]\n",
      "loss: 1.799127  [19264/60000]\n",
      "loss: 1.711958  [25664/60000]\n",
      "loss: 1.642900  [32064/60000]\n",
      "loss: 1.663570  [38464/60000]\n",
      "loss: 1.569724  [44864/60000]\n",
      "loss: 1.594710  [51264/60000]\n",
      "loss: 1.491850  [57664/60000]\n",
      "Test Error: \n",
      " Accuracy: 59.2%, Avg loss: 1.514003\n",
      "\n",
      "Epoch 4\n",
      "-------------------------------\n",
      "loss: 1.579812  [   64/60000]\n",
      "loss: 1.542771  [ 6464/60000]\n",
      "loss: 1.398401  [12864/60000]\n",
      "loss: 1.473942  [19264/60000]\n",
      "loss: 1.377105  [25664/60000]\n",
      "loss: 1.350566  [32064/60000]\n",
      "loss: 1.366731  [38464/60000]\n",
      "loss: 1.295730  [44864/60000]\n",
      "loss: 1.326320  [51264/60000]\n",
      "loss: 1.235944  [57664/60000]\n",
      "Test Error: \n",
      " Accuracy: 61.9%, Avg loss: 1.259145\n",
      "\n",
      "Epoch 5\n",
      "-------------------------------\n",
      "loss: 1.331261  [   64/60000]\n",
      "loss: 1.309905  [ 6464/60000]\n",
      "loss: 1.150952  [12864/60000]\n",
      "loss: 1.264296  [19264/60000]\n",
      "loss: 1.153960  [25664/60000]\n",
      "loss: 1.155079  [32064/60000]\n",
      "loss: 1.180978  [38464/60000]\n",
      "loss: 1.122785  [44864/60000]\n",
      "loss: 1.153086  [51264/60000]\n",
      "loss: 1.079634  [57664/60000]\n",
      "Test Error: \n",
      " Accuracy: 63.9%, Avg loss: 1.096951\n",
      "\n",
      "Done!\n"
     ]
    }
   ],
   "source": [
    "epochs = 5\n",
    "for t in range(epochs):\n",
    "    print(f\"Epoch {t+1}\\n-------------------------------\")\n",
    "    train(train_dataloader, model, loss_fn, optimizer)\n",
    "    test(test_dataloader, model, loss_fn)\n",
    "print(\"Done!\")"
   ]
  },
  {
   "cell_type": "code",
   "execution_count": 13,
   "id": "312d45315251cee3",
   "metadata": {
    "ExecuteTime": {
     "end_time": "2025-02-07T04:39:07.729091Z",
     "start_time": "2025-02-07T04:39:07.684687Z"
    }
   },
   "outputs": [
    {
     "name": "stdout",
     "output_type": "stream",
     "text": [
      "Saved PyTorch Model State to model.pth\n"
     ]
    }
   ],
   "source": [
    "torch.save(model.state_dict(), \"model.pth\")\n",
    "print(\"Saved PyTorch Model State to model.pth\")"
   ]
  },
  {
   "cell_type": "code",
   "execution_count": 14,
   "id": "3f4e8768281c21b0",
   "metadata": {
    "ExecuteTime": {
     "end_time": "2025-02-07T04:39:07.780638Z",
     "start_time": "2025-02-07T04:39:07.730876Z"
    }
   },
   "outputs": [
    {
     "data": {
      "text/plain": [
       "<All keys matched successfully>"
      ]
     },
     "execution_count": 14,
     "metadata": {},
     "output_type": "execute_result"
    }
   ],
   "source": [
    "model = NeuralNetwork().to(device)\n",
    "model.load_state_dict(torch.load(\"model.pth\"))"
   ]
  },
  {
   "cell_type": "code",
   "execution_count": 15,
   "id": "640b7a7b1b42bd4e",
   "metadata": {
    "ExecuteTime": {
     "end_time": "2025-02-07T04:39:07.821786Z",
     "start_time": "2025-02-07T04:39:07.783316Z"
    }
   },
   "outputs": [
    {
     "name": "stdout",
     "output_type": "stream",
     "text": [
      "Predicted: \"Ankle boot\", Actual: \"Ankle boot\"\n"
     ]
    }
   ],
   "source": [
    "classes = [\n",
    "    \"T-shirt/top\",\n",
    "    \"Trouser\",\n",
    "    \"Pullover\",\n",
    "    \"Dress\",\n",
    "    \"Coat\",\n",
    "    \"Sandal\",\n",
    "    \"Shirt\",\n",
    "    \"Sneaker\",\n",
    "    \"Bag\",\n",
    "    \"Ankle boot\",\n",
    "]\n",
    "\n",
    "model.eval()\n",
    "x, y = test_data[0][0], test_data[0][1]\n",
    "with torch.no_grad():\n",
    "    x = x.to(device)\n",
    "    pred = model(x)\n",
    "    predicted, actual = classes[pred[0].argmax(0)], classes[y]\n",
    "    print(f'Predicted: \"{predicted}\", Actual: \"{actual}\"')"
   ]
  }
 ],
 "metadata": {
  "kernelspec": {
   "display_name": "ai",
   "language": "python",
   "name": "python3"
  },
  "language_info": {
   "codemirror_mode": {
    "name": "ipython",
    "version": 3
   },
   "file_extension": ".py",
   "mimetype": "text/x-python",
   "name": "python",
   "nbconvert_exporter": "python",
   "pygments_lexer": "ipython3",
   "version": "3.13.1"
  }
 },
 "nbformat": 4,
 "nbformat_minor": 5
}
